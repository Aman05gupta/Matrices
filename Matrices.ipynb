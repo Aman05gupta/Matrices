{
  "nbformat": 4,
  "nbformat_minor": 0,
  "metadata": {
    "colab": {
      "provenance": [],
      "authorship_tag": "ABX9TyMQwwSF7wKVuO71X6Ppfh0q",
      "include_colab_link": true
    },
    "kernelspec": {
      "name": "python3",
      "display_name": "Python 3"
    },
    "language_info": {
      "name": "python"
    }
  },
  "cells": [
    {
      "cell_type": "markdown",
      "metadata": {
        "id": "view-in-github",
        "colab_type": "text"
      },
      "source": [
        "<a href=\"https://colab.research.google.com/github/Aman05gupta/Matrices/blob/main/Matrices.ipynb\" target=\"_parent\"><img src=\"https://colab.research.google.com/assets/colab-badge.svg\" alt=\"Open In Colab\"/></a>"
      ]
    },
    {
      "cell_type": "code",
      "execution_count": null,
      "metadata": {
        "id": "tKLpfFlee4eq"
      },
      "outputs": [],
      "source": []
    },
    {
      "cell_type": "markdown",
      "source": [
        "# Matrix Dimensions\n",
        " A matrix with 𝑚 rows and n columns is said to be an m×n matrix. The entry in the i-th row and j-th column of a matrix A is denoted as Aij.\n",
        "\n",
        "## Rows and Columns:\n",
        "\n",
        "**Rows:** The horizontal lines in a matrix. Each row consists of elements arranged horizontally.\n",
        "\n",
        "**Columns:** The vertical lines in a matrix. Each column consists of elements arranged vertically.\n",
        "\n",
        "## Matrix Notation:\n",
        "\n",
        "A matrix with m rows and n columns is represented as an m×n matrix.\n",
        "\n",
        "## Special Cases:\n",
        "\n",
        "**Square Matrix:** When m=n, i.e., the number of rows equals the number of columns.\n",
        "\n",
        "**Row Vector:** A matrix with only one row, denoted as 1×n.\n",
        "\n",
        "**Column Vector:** A matrix with only one column, denoted as m×1.\n"
      ],
      "metadata": {
        "id": "pWyF0dJrfYh5"
      }
    },
    {
      "cell_type": "code",
      "source": [
        "import numpy as np"
      ],
      "metadata": {
        "id": "EyX-Rs1EiR8C"
      },
      "execution_count": 2,
      "outputs": []
    },
    {
      "cell_type": "markdown",
      "source": [
        "### Creating Matrices"
      ],
      "metadata": {
        "id": "amrKtUkijJzo"
      }
    },
    {
      "cell_type": "code",
      "source": [
        "# Example matrices\n",
        "\n",
        "A = np.array([[1, 2], [3, 4], [5, 6]])  # 3x2 matrix\n",
        "B = np.array([[1, 2, 3], [4, 5, 6]])    # 2x3 matrix\n",
        "C = np.array([[1, 2, 3], [4, 5, 6], [7, 8, 9]])  # 3x3 matrix\n"
      ],
      "metadata": {
        "id": "1sHTbEfahS9J"
      },
      "execution_count": 3,
      "outputs": []
    },
    {
      "cell_type": "code",
      "source": [
        "print(\"3 x 2 Matrix A:\\n\", A)"
      ],
      "metadata": {
        "colab": {
          "base_uri": "https://localhost:8080/"
        },
        "id": "l52QgA60iJ-B",
        "outputId": "7393d998-991e-4c7d-bf1f-b2731ec25759"
      },
      "execution_count": 12,
      "outputs": [
        {
          "output_type": "stream",
          "name": "stdout",
          "text": [
            "3 x 2 Matrix A:\n",
            " [[1 2]\n",
            " [3 4]\n",
            " [5 6]]\n"
          ]
        }
      ]
    },
    {
      "cell_type": "code",
      "source": [
        "print(\"2 x 3 Matrix B:\\n\", B)"
      ],
      "metadata": {
        "colab": {
          "base_uri": "https://localhost:8080/"
        },
        "id": "iapaOhVSihFG",
        "outputId": "90fb8185-200d-4233-8e0d-2b3913bae3d0"
      },
      "execution_count": 11,
      "outputs": [
        {
          "output_type": "stream",
          "name": "stdout",
          "text": [
            "2 x 3 Matrix B:\n",
            " [[1 2 3]\n",
            " [4 5 6]]\n"
          ]
        }
      ]
    },
    {
      "cell_type": "code",
      "source": [
        "print(\"3 x 3 Matrix C:\\n\", C)"
      ],
      "metadata": {
        "colab": {
          "base_uri": "https://localhost:8080/"
        },
        "id": "1VNt4GBAinti",
        "outputId": "c5f56012-b22f-4429-c606-ce960cf07256"
      },
      "execution_count": 10,
      "outputs": [
        {
          "output_type": "stream",
          "name": "stdout",
          "text": [
            "3 x 3 Matrix C:\n",
            " [[1 2 3]\n",
            " [4 5 6]\n",
            " [7 8 9]]\n"
          ]
        }
      ]
    },
    {
      "cell_type": "markdown",
      "source": [
        "### Checking Dimensions\n",
        "\n",
        "To check the dimensions of a matrix, use the .shape attribute:"
      ],
      "metadata": {
        "id": "100vCiSJjODz"
      }
    },
    {
      "cell_type": "code",
      "source": [
        "print(\"Dimensions of A:\", A.shape)  # Output: (3, 2)\n",
        "print(\"Dimensions of B:\", B.shape)  # Output: (2, 3)\n",
        "print(\"Dimensions of C:\", C.shape)  # Output: (3, 3)\n"
      ],
      "metadata": {
        "colab": {
          "base_uri": "https://localhost:8080/"
        },
        "id": "bz88dRLoiwJ5",
        "outputId": "ca6cfd54-cc08-4d02-fb61-f7738a239dc4"
      },
      "execution_count": 13,
      "outputs": [
        {
          "output_type": "stream",
          "name": "stdout",
          "text": [
            "Dimensions of A: (3, 2)\n",
            "Dimensions of B: (2, 3)\n",
            "Dimensions of C: (3, 3)\n"
          ]
        }
      ]
    },
    {
      "cell_type": "code",
      "source": [],
      "metadata": {
        "id": "EhAeeFn-jBpB"
      },
      "execution_count": null,
      "outputs": []
    },
    {
      "cell_type": "markdown",
      "source": [
        "# Types of Matrices\n"
      ],
      "metadata": {
        "id": "3FJuHLD7j1bi"
      }
    },
    {
      "cell_type": "markdown",
      "source": [
        "## Square Matrix :\n",
        " A square matrix has an equal number of rows and columns"
      ],
      "metadata": {
        "id": "H59iaiYtkzVB"
      }
    },
    {
      "cell_type": "code",
      "source": [
        "\n",
        "# Create a square matrix\n",
        "square_matrix = np.array([[1, 2, 3], [4, 5, 6], [7, 8, 9]])\n",
        "print(\"Square Matrix:\\n\", square_matrix)\n"
      ],
      "metadata": {
        "colab": {
          "base_uri": "https://localhost:8080/"
        },
        "id": "hn6EM74akwyI",
        "outputId": "c9064345-9937-434f-b9f6-950378236e48"
      },
      "execution_count": 14,
      "outputs": [
        {
          "output_type": "stream",
          "name": "stdout",
          "text": [
            "Square Matrix:\n",
            " [[1 2 3]\n",
            " [4 5 6]\n",
            " [7 8 9]]\n"
          ]
        }
      ]
    },
    {
      "cell_type": "markdown",
      "source": [
        "## Diagonal Matrix:\n",
        "A diagonal matrix is a square matrix where all off-diagonal elements are zero."
      ],
      "metadata": {
        "id": "QwL9VEK2k-Z2"
      }
    },
    {
      "cell_type": "code",
      "source": [
        "# Create a diagonal matrix\n",
        "diagonal_matrix = np.diag([1, 2, 3])\n",
        "print(\"Diagonal Matrix:\\n\", diagonal_matrix)\n"
      ],
      "metadata": {
        "colab": {
          "base_uri": "https://localhost:8080/"
        },
        "id": "YJZ_MQ5Hk6yD",
        "outputId": "419bd3b0-98b6-4f3a-f18a-b2f53d87333c"
      },
      "execution_count": 15,
      "outputs": [
        {
          "output_type": "stream",
          "name": "stdout",
          "text": [
            "Diagonal Matrix:\n",
            " [[1 0 0]\n",
            " [0 2 0]\n",
            " [0 0 3]]\n"
          ]
        }
      ]
    },
    {
      "cell_type": "markdown",
      "source": [
        "## Identity Matrix:\n",
        "An identity matrix is a special diagonal matrix where all diagonal elements are 1."
      ],
      "metadata": {
        "id": "qalDTXTWlGst"
      }
    },
    {
      "cell_type": "code",
      "source": [
        "# Create a 3x3 identity matrix\n",
        "identity_matrix = np.eye(3)\n",
        "print(\"Identity Matrix:\\n\", identity_matrix)\n"
      ],
      "metadata": {
        "colab": {
          "base_uri": "https://localhost:8080/"
        },
        "id": "N-daQ_50k9qQ",
        "outputId": "71139abd-ce66-44fa-ee13-478d3ad53a59"
      },
      "execution_count": 16,
      "outputs": [
        {
          "output_type": "stream",
          "name": "stdout",
          "text": [
            "Identity Matrix:\n",
            " [[1. 0. 0.]\n",
            " [0. 1. 0.]\n",
            " [0. 0. 1.]]\n"
          ]
        }
      ]
    },
    {
      "cell_type": "markdown",
      "source": [
        "## Upper Triangular Matrix:\n",
        "An upper triangular matrix has zeros below the main diagonal."
      ],
      "metadata": {
        "id": "Xt0_dU22lPA4"
      }
    },
    {
      "cell_type": "code",
      "source": [
        "# Create an upper triangular matrix\n",
        "upper_triangular_matrix = np.array([[1, 2, 3], [0, 4, 5], [0, 0, 6]])\n",
        "print(\"Upper Triangular Matrix:\\n\", upper_triangular_matrix)\n"
      ],
      "metadata": {
        "colab": {
          "base_uri": "https://localhost:8080/"
        },
        "id": "hYfl4i6IlK-N",
        "outputId": "849a7bd9-423f-42ff-a30b-3c63af6b8e60"
      },
      "execution_count": 17,
      "outputs": [
        {
          "output_type": "stream",
          "name": "stdout",
          "text": [
            "Upper Triangular Matrix:\n",
            " [[1 2 3]\n",
            " [0 4 5]\n",
            " [0 0 6]]\n"
          ]
        }
      ]
    },
    {
      "cell_type": "markdown",
      "source": [
        "## Lower Triangular Matrix:\n",
        "A lower triangular matrix has zeros above the main diagonal."
      ],
      "metadata": {
        "id": "ZlVaqvwPla3e"
      }
    },
    {
      "cell_type": "code",
      "source": [
        "# Create a lower triangular matrix\n",
        "lower_triangular_matrix = np.array([[1, 0, 0], [2, 3, 0], [4, 5, 6]])\n",
        "print(\"Lower Triangular Matrix:\\n\", lower_triangular_matrix)\n"
      ],
      "metadata": {
        "colab": {
          "base_uri": "https://localhost:8080/"
        },
        "id": "pigOAn3mlUo4",
        "outputId": "3f9269c7-de58-4ab8-f6bf-fb61852f444e"
      },
      "execution_count": 18,
      "outputs": [
        {
          "output_type": "stream",
          "name": "stdout",
          "text": [
            "Lower Triangular Matrix:\n",
            " [[1 0 0]\n",
            " [2 3 0]\n",
            " [4 5 6]]\n"
          ]
        }
      ]
    },
    {
      "cell_type": "markdown",
      "source": [
        "## Symmetric Matrix:\n",
        "A symmetric matrix is equal to its transpose."
      ],
      "metadata": {
        "id": "85KDfbMBlpQb"
      }
    },
    {
      "cell_type": "code",
      "source": [
        "# Create a symmetric matrix\n",
        "symmetric_matrix = np.array([[1, 2, 3], [2, 4, 5], [3, 5, 6]])\n",
        "print(\"Symmetric Matrix:\\n\", symmetric_matrix)\n"
      ],
      "metadata": {
        "colab": {
          "base_uri": "https://localhost:8080/"
        },
        "id": "wvnq616HliEh",
        "outputId": "639a9805-45f9-4870-a85b-a0203cd93453"
      },
      "execution_count": 19,
      "outputs": [
        {
          "output_type": "stream",
          "name": "stdout",
          "text": [
            "Symmetric Matrix:\n",
            " [[1 2 3]\n",
            " [2 4 5]\n",
            " [3 5 6]]\n"
          ]
        }
      ]
    },
    {
      "cell_type": "markdown",
      "source": [
        "## Zero Matrix:\n",
        " A zero matrix has all elements equal to zero."
      ],
      "metadata": {
        "id": "Hc_mYbCBlwD6"
      }
    },
    {
      "cell_type": "code",
      "source": [
        "# Create a zero matrix\n",
        "zero_matrix = np.zeros((2, 3))\n",
        "print(\"Zero Matrix:\\n\", zero_matrix)\n"
      ],
      "metadata": {
        "colab": {
          "base_uri": "https://localhost:8080/"
        },
        "id": "kgM7FDUoltFf",
        "outputId": "4a698f5c-f05b-47dc-cf0e-3b9d67ad6eab"
      },
      "execution_count": 20,
      "outputs": [
        {
          "output_type": "stream",
          "name": "stdout",
          "text": [
            "Zero Matrix:\n",
            " [[0. 0. 0.]\n",
            " [0. 0. 0.]]\n"
          ]
        }
      ]
    },
    {
      "cell_type": "markdown",
      "source": [
        "## Ones Matrix:\n",
        "An ones matrix has all elements equal to one."
      ],
      "metadata": {
        "id": "JYTKmBnYl4FZ"
      }
    },
    {
      "cell_type": "code",
      "source": [
        "# Create a 3x2 ones matrix\n",
        "ones_matrix = np.ones((3, 2))\n",
        "print(\"Ones Matrix:\\n\", ones_matrix)\n"
      ],
      "metadata": {
        "colab": {
          "base_uri": "https://localhost:8080/"
        },
        "id": "wyLZbGH3lz7H",
        "outputId": "0b40174a-d1ae-42b5-b921-7fa6b0dc4977"
      },
      "execution_count": 21,
      "outputs": [
        {
          "output_type": "stream",
          "name": "stdout",
          "text": [
            "Ones Matrix:\n",
            " [[1. 1.]\n",
            " [1. 1.]\n",
            " [1. 1.]]\n"
          ]
        }
      ]
    },
    {
      "cell_type": "markdown",
      "source": [
        "## Transpose:\n"
      ],
      "metadata": {
        "id": "N7LbIoTlnV36"
      }
    },
    {
      "cell_type": "code",
      "source": [
        "# Example matrix\n",
        "A = np.array([[1, 2, 3], [4, 5, 6]])\n"
      ],
      "metadata": {
        "id": "gdcox7gNl8WF"
      },
      "execution_count": 23,
      "outputs": []
    },
    {
      "cell_type": "code",
      "source": [
        "# Compute the transpose\n",
        "A_transposed = A.T\n",
        "\n",
        "print(\"Original Matrix A:\\n\", A)\n",
        "print(\"Transpose of A:\\n\", A_transposed)"
      ],
      "metadata": {
        "colab": {
          "base_uri": "https://localhost:8080/"
        },
        "id": "-rm39X2XoHT1",
        "outputId": "23addbd1-6abf-4137-8910-86d6cdb69379"
      },
      "execution_count": 24,
      "outputs": [
        {
          "output_type": "stream",
          "name": "stdout",
          "text": [
            "Original Matrix A:\n",
            " [[1 2 3]\n",
            " [4 5 6]]\n",
            "Transpose of A:\n",
            " [[1 4]\n",
            " [2 5]\n",
            " [3 6]]\n"
          ]
        }
      ]
    },
    {
      "cell_type": "markdown",
      "source": [
        "# Operations on Matrices"
      ],
      "metadata": {
        "id": "c7fpS45CoYY5"
      }
    },
    {
      "cell_type": "markdown",
      "source": [
        "## Addition and Subtraction"
      ],
      "metadata": {
        "id": "JSsNs2J8octG"
      }
    },
    {
      "cell_type": "code",
      "source": [
        "# Example matrices\n",
        "A = np.array([[1, 2], [3, 4]])\n",
        "B = np.array([[5, 6], [7, 8]])"
      ],
      "metadata": {
        "id": "p1869TdooMq9"
      },
      "execution_count": 25,
      "outputs": []
    },
    {
      "cell_type": "code",
      "source": [
        "# Addition\n",
        "C = A + B\n",
        "print(\"A + B:\\n\", C)\n"
      ],
      "metadata": {
        "colab": {
          "base_uri": "https://localhost:8080/"
        },
        "id": "95AdRY23ojq-",
        "outputId": "574396f4-7f73-4ea3-a1af-75843ed3fcca"
      },
      "execution_count": 27,
      "outputs": [
        {
          "output_type": "stream",
          "name": "stdout",
          "text": [
            "A + B:\n",
            " [[ 6  8]\n",
            " [10 12]]\n"
          ]
        }
      ]
    },
    {
      "cell_type": "code",
      "source": [
        "# Subtraction\n",
        "D = A - B\n",
        "print(\"A - B:\\n\", D)"
      ],
      "metadata": {
        "colab": {
          "base_uri": "https://localhost:8080/"
        },
        "id": "-Rjp9hqsok4k",
        "outputId": "5d4ae169-6ec3-4264-f029-46b59f9ada28"
      },
      "execution_count": 28,
      "outputs": [
        {
          "output_type": "stream",
          "name": "stdout",
          "text": [
            "A - B:\n",
            " [[-4 -4]\n",
            " [-4 -4]]\n"
          ]
        }
      ]
    },
    {
      "cell_type": "markdown",
      "source": [
        "## Scalar Multiplication"
      ],
      "metadata": {
        "id": "D-vbsBGQowm-"
      }
    },
    {
      "cell_type": "code",
      "source": [
        "# Scalar multiplication\n",
        "alpha = 2\n",
        "E = alpha * A\n",
        "print(\"alpha * A:\\n\", E)\n"
      ],
      "metadata": {
        "colab": {
          "base_uri": "https://localhost:8080/"
        },
        "id": "n2WW_cgzorZM",
        "outputId": "d3b91735-ddae-4035-ba95-73aa1d8442e9"
      },
      "execution_count": 29,
      "outputs": [
        {
          "output_type": "stream",
          "name": "stdout",
          "text": [
            "alpha * A:\n",
            " [[2 4]\n",
            " [6 8]]\n"
          ]
        }
      ]
    },
    {
      "cell_type": "markdown",
      "source": [
        "## Matrix Multiplication"
      ],
      "metadata": {
        "id": "TmmTfKNHo_je"
      }
    },
    {
      "cell_type": "code",
      "source": [
        "# Example matrices\n",
        "A = np.array([[1, 2], [3, 4], [5, 6]])  # 3x2 matrix\n",
        "B = np.array([[7, 8, 9], [10, 11, 12]])  # 2x3 matrix\n",
        "\n",
        "# Matrix multiplication\n",
        "F = np.dot(A, B)\n",
        "print(\"A * B:\\n\", F)\n"
      ],
      "metadata": {
        "colab": {
          "base_uri": "https://localhost:8080/"
        },
        "id": "N7eYWGLzozR4",
        "outputId": "421ee720-228e-4025-c22d-49343d56a149"
      },
      "execution_count": 30,
      "outputs": [
        {
          "output_type": "stream",
          "name": "stdout",
          "text": [
            "A * B:\n",
            " [[ 27  30  33]\n",
            " [ 61  68  75]\n",
            " [ 95 106 117]]\n"
          ]
        }
      ]
    },
    {
      "cell_type": "markdown",
      "source": [
        "## Transpose"
      ],
      "metadata": {
        "id": "XQGUnYGCpPeT"
      }
    },
    {
      "cell_type": "code",
      "source": [
        "# Example matrix\n",
        "A = np.array([[1, 2, 3], [4, 5, 6]])\n",
        "\n",
        "# Transpose\n",
        "A_transposed = A.T\n",
        "print(\"Transpose of A:\\n\", A_transposed)\n"
      ],
      "metadata": {
        "colab": {
          "base_uri": "https://localhost:8080/"
        },
        "id": "kby-ss5ApDw8",
        "outputId": "fa43ec38-caec-4f45-f23d-d4f19485c604"
      },
      "execution_count": 31,
      "outputs": [
        {
          "output_type": "stream",
          "name": "stdout",
          "text": [
            "Transpose of A:\n",
            " [[1 4]\n",
            " [2 5]\n",
            " [3 6]]\n"
          ]
        }
      ]
    },
    {
      "cell_type": "markdown",
      "source": [
        "##  Inverse"
      ],
      "metadata": {
        "id": "vw5g-yjxpWuj"
      }
    },
    {
      "cell_type": "code",
      "source": [
        "# Example square matrix\n",
        "A = np.array([[1, 2], [3, 4]])\n",
        "\n",
        "# Inverse of A\n",
        "A_inverse = np.linalg.inv(A)\n",
        "print(\"Inverse of A:\\n\", A_inverse)\n"
      ],
      "metadata": {
        "colab": {
          "base_uri": "https://localhost:8080/"
        },
        "id": "1HqJiGbepTmv",
        "outputId": "26d4075f-5ae1-40c3-ee40-dfdd8f573ac5"
      },
      "execution_count": 32,
      "outputs": [
        {
          "output_type": "stream",
          "name": "stdout",
          "text": [
            "Inverse of A:\n",
            " [[-2.   1. ]\n",
            " [ 1.5 -0.5]]\n"
          ]
        }
      ]
    },
    {
      "cell_type": "markdown",
      "source": [
        "## Determinant"
      ],
      "metadata": {
        "id": "UWjHF8vypcq5"
      }
    },
    {
      "cell_type": "code",
      "source": [
        "# Example square matrix\n",
        "A = np.array([[1, 2], [3, 4]])\n",
        "\n",
        "# Determinant of A\n",
        "det_A = np.linalg.det(A)\n",
        "print(\"Determinant of A:\", det_A)\n"
      ],
      "metadata": {
        "colab": {
          "base_uri": "https://localhost:8080/"
        },
        "id": "ltbeSJ5fpZtq",
        "outputId": "11f6882f-94b1-476b-d936-c63b370edcbc"
      },
      "execution_count": 33,
      "outputs": [
        {
          "output_type": "stream",
          "name": "stdout",
          "text": [
            "Determinant of A: -2.0000000000000004\n"
          ]
        }
      ]
    },
    {
      "cell_type": "markdown",
      "source": [
        "# Properties of Matrices\n"
      ],
      "metadata": {
        "id": "JBXmOpiiqAw3"
      }
    },
    {
      "cell_type": "markdown",
      "source": [
        "## Commutativity of Addition:\n",
        "Matrix addition is commutative, meaning the order of addition does not affect the result."
      ],
      "metadata": {
        "id": "Ks7k1vhwqGcC"
      }
    },
    {
      "cell_type": "code",
      "source": [
        "# Example matrices\n",
        "A = np.array([[1, 2], [3, 4]])\n",
        "B = np.array([[5, 6], [7, 8]])"
      ],
      "metadata": {
        "id": "sLxNZkblpgAq"
      },
      "execution_count": 34,
      "outputs": []
    },
    {
      "cell_type": "code",
      "source": [
        "# A + B\n",
        "result1 = A + B\n",
        "\n",
        "# B + A\n",
        "result2 = B + A\n",
        "\n",
        "print(\"A + B:\\n\", result1)\n",
        "print(\"B + A:\\n\", result2)"
      ],
      "metadata": {
        "colab": {
          "base_uri": "https://localhost:8080/"
        },
        "id": "JFd1w6p_qQoe",
        "outputId": "c2b1b8d7-80ac-4a60-a28d-7cbed7d295d9"
      },
      "execution_count": 35,
      "outputs": [
        {
          "output_type": "stream",
          "name": "stdout",
          "text": [
            "A + B:\n",
            " [[ 6  8]\n",
            " [10 12]]\n",
            "B + A:\n",
            " [[ 6  8]\n",
            " [10 12]]\n"
          ]
        }
      ]
    },
    {
      "cell_type": "markdown",
      "source": [
        "## Associativity of Addition:\n",
        "Matrix addition is associative, meaning the grouping of matrices in an addition operation does not affect the result:"
      ],
      "metadata": {
        "id": "MJadAk6DqW2i"
      }
    },
    {
      "cell_type": "code",
      "source": [
        "# Example matrices\n",
        "A = np.array([[1, 2], [3, 4]])\n",
        "B = np.array([[5, 6], [7, 8]])\n",
        "C = np.array([[9, 10], [11, 12]])"
      ],
      "metadata": {
        "id": "Dx25bVsTqR7m"
      },
      "execution_count": 36,
      "outputs": []
    },
    {
      "cell_type": "code",
      "source": [
        "# (A + B) + C\n",
        "result1 = (A + B) + C\n",
        "\n",
        "# A + (B + C)\n",
        "result2 = A + (B + C)\n",
        "\n",
        "print(\"(A + B) + C:\\n\", result1)\n",
        "\n",
        "print(\"A + (B + C):\\n\", result2)"
      ],
      "metadata": {
        "colab": {
          "base_uri": "https://localhost:8080/"
        },
        "id": "bAsfqRugqd81",
        "outputId": "bacd7add-a565-4d6f-c570-a16ebdeaf510"
      },
      "execution_count": 38,
      "outputs": [
        {
          "output_type": "stream",
          "name": "stdout",
          "text": [
            "(A + B) + C:\n",
            " [[15 18]\n",
            " [21 24]]\n",
            "A + (B + C):\n",
            " [[15 18]\n",
            " [21 24]]\n"
          ]
        }
      ]
    },
    {
      "cell_type": "markdown",
      "source": [
        "##  Distributivity of Scalar Multiplication over Addition:\n",
        "Scalar multiplication distributes over matrix addition"
      ],
      "metadata": {
        "id": "DakBcoSeqo6i"
      }
    },
    {
      "cell_type": "code",
      "source": [
        "# Example matrices\n",
        "A = np.array([[1, 2], [3, 4]])\n",
        "B = np.array([[5, 6], [7, 8]])\n",
        "alpha = 2\n",
        "\n",
        "# alpha * (A + B)\n",
        "result1 = alpha * (A + B)\n",
        "\n",
        "# alpha * A + alpha * B\n",
        "result2 = alpha * A + alpha * B\n",
        "\n",
        "print(\"alpha * (A + B):\\n\", result1)\n",
        "print(\"alpha * A + alpha * B:\\n\", result2)\n"
      ],
      "metadata": {
        "colab": {
          "base_uri": "https://localhost:8080/"
        },
        "id": "DLGUZO9Hqe8d",
        "outputId": "dbe813bd-4d47-436b-a5ab-41d65ea968d5"
      },
      "execution_count": 39,
      "outputs": [
        {
          "output_type": "stream",
          "name": "stdout",
          "text": [
            "alpha * (A + B):\n",
            " [[12 16]\n",
            " [20 24]]\n",
            "alpha * A + alpha * B:\n",
            " [[12 16]\n",
            " [20 24]]\n"
          ]
        }
      ]
    },
    {
      "cell_type": "markdown",
      "source": [
        "## Identity Matrix Property:\n",
        "Multiplying a matrix by the identity matrix (of appropriate size) leaves the matrix unchanged:"
      ],
      "metadata": {
        "id": "xhmS8SHoq4oQ"
      }
    },
    {
      "cell_type": "code",
      "source": [
        "# Example matrix\n",
        "A = np.array([[1, 2], [3, 4]])\n",
        "\n",
        "# Identity matrix\n",
        "I = np.eye(2)\n",
        "\n",
        "# A * I\n",
        "result1 = np.dot(A, I)\n",
        "\n",
        "# I * A\n",
        "result2 = np.dot(I, A)\n",
        "\n",
        "print(\"A * I:\\n\", result1)\n",
        "print(\"I * A:\\n\", result2)\n"
      ],
      "metadata": {
        "colab": {
          "base_uri": "https://localhost:8080/"
        },
        "id": "tylEpoeDq0np",
        "outputId": "8984ede1-d8a9-446c-f174-a2944cd8f5e0"
      },
      "execution_count": 40,
      "outputs": [
        {
          "output_type": "stream",
          "name": "stdout",
          "text": [
            "A * I:\n",
            " [[1. 2.]\n",
            " [3. 4.]]\n",
            "I * A:\n",
            " [[1. 2.]\n",
            " [3. 4.]]\n"
          ]
        }
      ]
    },
    {
      "cell_type": "markdown",
      "source": [
        "## Inverse Property"
      ],
      "metadata": {
        "id": "H4nCqH1mrCUO"
      }
    },
    {
      "cell_type": "code",
      "source": [
        "# Example square matrix\n",
        "A = np.array([[1, 2], [3, 4]])\n",
        "\n",
        "# Inverse of A\n",
        "A_inverse = np.linalg.inv(A)\n",
        "\n",
        "# A * A_inverse\n",
        "result1 = np.dot(A, A_inverse)\n",
        "\n",
        "# A_inverse * A\n",
        "result2 = np.dot(A_inverse, A)\n",
        "\n",
        "print(\"A * A_inverse:\\n\", result1)\n",
        "print(\"A_inverse * A:\\n\", result2)\n"
      ],
      "metadata": {
        "colab": {
          "base_uri": "https://localhost:8080/"
        },
        "id": "Qtyg1dA6q8ql",
        "outputId": "10c88f2c-ba97-4e81-c4a6-486319736a35"
      },
      "execution_count": 41,
      "outputs": [
        {
          "output_type": "stream",
          "name": "stdout",
          "text": [
            "A * A_inverse:\n",
            " [[1.0000000e+00 0.0000000e+00]\n",
            " [8.8817842e-16 1.0000000e+00]]\n",
            "A_inverse * A:\n",
            " [[1.00000000e+00 0.00000000e+00]\n",
            " [1.11022302e-16 1.00000000e+00]]\n"
          ]
        }
      ]
    },
    {
      "cell_type": "code",
      "source": [],
      "metadata": {
        "id": "Tjh5Ec6yrGk1"
      },
      "execution_count": null,
      "outputs": []
    }
  ]
}